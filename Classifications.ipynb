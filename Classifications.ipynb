{
  "nbformat": 4,
  "nbformat_minor": 0,
  "metadata": {
    "colab": {
      "name": "Classifications.ipynb",
      "version": "0.3.2",
      "provenance": [],
      "collapsed_sections": [],
      "include_colab_link": true
    },
    "kernelspec": {
      "name": "python3",
      "display_name": "Python 3"
    },
    "accelerator": "GPU"
  },
  "cells": [
    {
      "cell_type": "markdown",
      "metadata": {
        "id": "view-in-github",
        "colab_type": "text"
      },
      "source": [
        "<a href=\"https://colab.research.google.com/github/kunamneni117/Introduction-To-Machine-Learning/blob/master/Classifications.ipynb\" target=\"_parent\"><img src=\"https://colab.research.google.com/assets/colab-badge.svg\" alt=\"Open In Colab\"/></a>"
      ]
    },
    {
      "cell_type": "code",
      "metadata": {
        "id": "NZWkWWMbkRDU",
        "colab_type": "code",
        "colab": {}
      },
      "source": [
        "import pandas as pd\n",
        "import numpy as np\n",
        "import matplotlib.pyplot as plt\n",
        "from sklearn.preprocessing import Imputer,StandardScaler\n",
        "from sklearn.model_selection import train_test_split\n",
        "from sklearn.base import BaseEstimator,TransformerMixin"
      ],
      "execution_count": 0,
      "outputs": []
    },
    {
      "cell_type": "code",
      "metadata": {
        "id": "xR5Jide5k6pG",
        "colab_type": "code",
        "outputId": "fd793940-4842-457b-db59-c1a1d50223a2",
        "colab": {
          "base_uri": "https://localhost:8080/",
          "height": 190
        }
      },
      "source": [
        "!pip install sklearn_features"
      ],
      "execution_count": 5,
      "outputs": [
        {
          "output_type": "stream",
          "text": [
            "Requirement already satisfied: sklearn_features in /usr/local/lib/python3.6/dist-packages (0.0.2)\n",
            "Requirement already satisfied: scipy in /usr/local/lib/python3.6/dist-packages (from sklearn_features) (1.3.1)\n",
            "Requirement already satisfied: pandas in /usr/local/lib/python3.6/dist-packages (from sklearn_features) (0.24.2)\n",
            "Requirement already satisfied: scikit-learn in /usr/local/lib/python3.6/dist-packages (from sklearn_features) (0.21.3)\n",
            "Requirement already satisfied: numpy>=1.13.3 in /usr/local/lib/python3.6/dist-packages (from scipy->sklearn_features) (1.16.4)\n",
            "Requirement already satisfied: pytz>=2011k in /usr/local/lib/python3.6/dist-packages (from pandas->sklearn_features) (2018.9)\n",
            "Requirement already satisfied: python-dateutil>=2.5.0 in /usr/local/lib/python3.6/dist-packages (from pandas->sklearn_features) (2.5.3)\n",
            "Requirement already satisfied: joblib>=0.11 in /usr/local/lib/python3.6/dist-packages (from scikit-learn->sklearn_features) (0.13.2)\n",
            "Requirement already satisfied: six>=1.5 in /usr/local/lib/python3.6/dist-packages (from python-dateutil>=2.5.0->pandas->sklearn_features) (1.12.0)\n"
          ],
          "name": "stdout"
        }
      ]
    },
    {
      "cell_type": "code",
      "metadata": {
        "id": "DLx56EGKk-Hp",
        "colab_type": "code",
        "colab": {}
      },
      "source": [
        "from sklearn_features.transformers import DataFrameSelector\n",
        "from sklearn.pipeline import Pipeline,FeatureUnion"
      ],
      "execution_count": 0,
      "outputs": []
    },
    {
      "cell_type": "code",
      "metadata": {
        "id": "mC0rvX5PlKst",
        "colab_type": "code",
        "colab": {}
      },
      "source": [
        "MNIST_Data = pd.read_csv('/content/train.csv')"
      ],
      "execution_count": 0,
      "outputs": []
    },
    {
      "cell_type": "code",
      "metadata": {
        "id": "k9bQ8PqG3CCD",
        "colab_type": "code",
        "colab": {
          "base_uri": "https://localhost:8080/",
          "height": 34
        },
        "outputId": "ebadabe7-bbe5-468b-d385-f7544b18abca"
      },
      "source": [
        "print(MNIST_Data.shape)"
      ],
      "execution_count": 8,
      "outputs": [
        {
          "output_type": "stream",
          "text": [
            "(42000, 785)\n"
          ],
          "name": "stdout"
        }
      ]
    },
    {
      "cell_type": "code",
      "metadata": {
        "id": "u4mYM2Z83GwU",
        "colab_type": "code",
        "colab": {}
      },
      "source": [
        "MNIST_Data_Features = MNIST_Data.values[:,1:]\n",
        "MNIST_Data_Labels = MNIST_Data.values[:,0]"
      ],
      "execution_count": 0,
      "outputs": []
    },
    {
      "cell_type": "code",
      "metadata": {
        "id": "kwDNZeFN3Ubd",
        "colab_type": "code",
        "colab": {
          "base_uri": "https://localhost:8080/",
          "height": 34
        },
        "outputId": "286cbc06-4a64-42da-8bcd-d4f4a1b79f83"
      },
      "source": [
        "print(MNIST_Data_Features.shape,MNIST_Data_Labels.shape)"
      ],
      "execution_count": 25,
      "outputs": [
        {
          "output_type": "stream",
          "text": [
            "(42000, 784) (42000,)\n"
          ],
          "name": "stdout"
        }
      ]
    },
    {
      "cell_type": "code",
      "metadata": {
        "id": "egI-se7Y4Zps",
        "colab_type": "code",
        "colab": {}
      },
      "source": [
        "import matplotlib"
      ],
      "execution_count": 0,
      "outputs": []
    },
    {
      "cell_type": "code",
      "metadata": {
        "id": "ELQf301H3ZKL",
        "colab_type": "code",
        "colab": {}
      },
      "source": [
        "def Random_Image(Data):\n",
        "  \"\"\"Picks a Random Row and reshapes the row in such a way and it prints a image\"\"\"\n",
        "  Random_Row = np.random.randint(len(Data))\n",
        "  plt.imshow(Data[Random_Row].reshape(28,28),cmap=matplotlib.cm.binary)"
      ],
      "execution_count": 0,
      "outputs": []
    },
    {
      "cell_type": "code",
      "metadata": {
        "id": "VUeu-cQZ4fl4",
        "colab_type": "code",
        "colab": {
          "base_uri": "https://localhost:8080/",
          "height": 269
        },
        "outputId": "2f67b515-05e0-49fa-891e-1d5f647c9a22"
      },
      "source": [
        "Random_Image(MNIST_Data_Features)"
      ],
      "execution_count": 27,
      "outputs": [
        {
          "output_type": "display_data",
          "data": {
            "image/png": "[encoded data removed]",
            "text/plain": [
              "<Figure size 432x288 with 1 Axes>"
            ]
          },
          "metadata": {
            "tags": []
          }
        }
      ]
    },
    {
      "cell_type": "code",
      "metadata": {
        "id": "0YFElqHu4jYu",
        "colab_type": "code",
        "colab": {}
      },
      "source": [
        "from sklearn.model_selection import train_test_split"
      ],
      "execution_count": 0,
      "outputs": []
    },
    {
      "cell_type": "code",
      "metadata": {
        "id": "K6z5iUIV4qWG",
        "colab_type": "code",
        "colab": {}
      },
      "source": [
        "X_Train,X_Test,Y_Train,Y_Test = train_test_split(MNIST_Data_Features,MNIST_Data_Labels,random_state=42,test_size=0.22)"
      ],
      "execution_count": 0,
      "outputs": []
    },
    {
      "cell_type": "code",
      "metadata": {
        "id": "nre59IwH45ym",
        "colab_type": "code",
        "colab": {
          "base_uri": "https://localhost:8080/",
          "height": 34
        },
        "outputId": "9b5f2f59-bb0b-41bc-907f-50f95ab9c83b"
      },
      "source": [
        "print(X_Train.shape,X_Test.shape)"
      ],
      "execution_count": 30,
      "outputs": [
        {
          "output_type": "stream",
          "text": [
            "(32760, 784) (9240, 784)\n"
          ],
          "name": "stdout"
        }
      ]
    },
    {
      "cell_type": "markdown",
      "metadata": {
        "id": "NawJHtVH5bbw",
        "colab_type": "text"
      },
      "source": [
        "Creating a Binary Classifier Model and training to predict 5 integer and non 5 integer"
      ]
    },
    {
      "cell_type": "code",
      "metadata": {
        "id": "SiEeZF1f5t-p",
        "colab_type": "code",
        "colab": {}
      },
      "source": [
        "from sklearn.linear_model import SGDClassifier"
      ],
      "execution_count": 0,
      "outputs": []
    },
    {
      "cell_type": "code",
      "metadata": {
        "id": "Awy5xZSr54RO",
        "colab_type": "code",
        "colab": {}
      },
      "source": [
        "Y_Train_5 = (Y_Train==5)\n",
        "Y_Test_5 =(Y_Test==5)"
      ],
      "execution_count": 0,
      "outputs": []
    },
    {
      "cell_type": "code",
      "metadata": {
        "id": "37utZzJb6DAD",
        "colab_type": "code",
        "colab": {}
      },
      "source": [
        "SGD_classifier_Object = SGDClassifier(random_state=42)"
      ],
      "execution_count": 0,
      "outputs": []
    },
    {
      "cell_type": "code",
      "metadata": {
        "id": "EO-L84tcGv02",
        "colab_type": "code",
        "colab": {}
      },
      "source": [
        ""
      ],
      "execution_count": 0,
      "outputs": []
    },
    {
      "cell_type": "code",
      "metadata": {
        "id": "ZeI48Zbx6LIE",
        "colab_type": "code",
        "colab": {
          "base_uri": "https://localhost:8080/",
          "height": 119
        },
        "outputId": "7b4c6da4-de2a-4bd9-d7d5-efe05653b1d2"
      },
      "source": [
        "SGD_classifier_Object.fit(X_Train,Y_Train_5)"
      ],
      "execution_count": 33,
      "outputs": [
        {
          "output_type": "execute_result",
          "data": {
            "text/plain": [
              "SGDClassifier(alpha=0.0001, average=False, class_weight=None,\n",
              "              early_stopping=False, epsilon=0.1, eta0=0.0, fit_intercept=True,\n",
              "              l1_ratio=0.15, learning_rate='optimal', loss='hinge',\n",
              "              max_iter=1000, n_iter_no_change=5, n_jobs=None, penalty='l2',\n",
              "              power_t=0.5, random_state=42, shuffle=True, tol=0.001,\n",
              "              validation_fraction=0.1, verbose=0, warm_start=False)"
            ]
          },
          "metadata": {
            "tags": []
          },
          "execution_count": 33
        }
      ]
    },
    {
      "cell_type": "code",
      "metadata": {
        "id": "XP0bJSBCKl6O",
        "colab_type": "code",
        "colab": {}
      },
      "source": [
        "Y_Pred = SGD_classifier_Object.predict(X_Test)"
      ],
      "execution_count": 0,
      "outputs": []
    },
    {
      "cell_type": "markdown",
      "metadata": {
        "id": "1ER13k1IG5kQ",
        "colab_type": "text"
      },
      "source": [
        "Implementing StratifiedKflod Cross Validation Method"
      ]
    },
    {
      "cell_type": "code",
      "metadata": {
        "id": "PNu9H8HmGxuF",
        "colab_type": "code",
        "colab": {}
      },
      "source": [
        "from sklearn.model_selection import StratifiedKFold"
      ],
      "execution_count": 0,
      "outputs": []
    },
    {
      "cell_type": "code",
      "metadata": {
        "id": "x_KNFaeJHGQ_",
        "colab_type": "code",
        "colab": {}
      },
      "source": [
        "from sklearn.base import clone"
      ],
      "execution_count": 0,
      "outputs": []
    },
    {
      "cell_type": "code",
      "metadata": {
        "id": "F5eBvdLQHJf1",
        "colab_type": "code",
        "colab": {}
      },
      "source": [
        "skfolds = StratifiedKFold(n_splits=3,random_state=42)"
      ],
      "execution_count": 0,
      "outputs": []
    },
    {
      "cell_type": "code",
      "metadata": {
        "id": "pPNBXeeoHTUu",
        "colab_type": "code",
        "colab": {
          "base_uri": "https://localhost:8080/",
          "height": 68
        },
        "outputId": "31d9558d-c5af-4bdc-da78-66487cc9a637"
      },
      "source": [
        "for train_index,test_index in skfolds.split(X_Train,Y_Train_5):\n",
        "  X_Train_kflod = X_Train[train_index]\n",
        "  X_Test_kflod = X_Train[test_index]\n",
        "  Y_Train_kflod = Y_Train_5[train_index]\n",
        "  Y_Test_kflod = Y_Train_5[test_index]\n",
        "  SGD_Classifier_Clone = clone(SGD_classifier_Object)\n",
        "  SGD_Classifier_Clone.fit(X_Train_kflod,Y_Train_kflod)\n",
        "  Y_Pred_kflod = SGD_Classifier_Clone.predict(X_Test_kflod)\n",
        "  n_correct = sum(Y_Pred_kflod==Y_Test_kflod)\n",
        "  print(n_correct/len(Y_Test_kflod))"
      ],
      "execution_count": 37,
      "outputs": [
        {
          "output_type": "stream",
          "text": [
            "0.964197417818881\n",
            "0.9561355311355312\n",
            "0.9610770217052844\n"
          ],
          "name": "stdout"
        }
      ]
    },
    {
      "cell_type": "markdown",
      "metadata": {
        "id": "q0w-n9qiIxSC",
        "colab_type": "text"
      },
      "source": [
        "From this we thought of the model is very accurate BUT...."
      ]
    },
    {
      "cell_type": "markdown",
      "metadata": {
        "id": "Yr4QkL9TJANq",
        "colab_type": "text"
      },
      "source": [
        "For Classification we use another set of tools for measuring the goodness of the  model"
      ]
    },
    {
      "cell_type": "code",
      "metadata": {
        "id": "C652g3WyIpDn",
        "colab_type": "code",
        "colab": {}
      },
      "source": [
        "from sklearn.metrics import confusion_matrix\n",
        "from sklearn.model_selection import cross_val_predict"
      ],
      "execution_count": 0,
      "outputs": []
    },
    {
      "cell_type": "code",
      "metadata": {
        "id": "-l4UYzKuJZDn",
        "colab_type": "code",
        "colab": {
          "base_uri": "https://localhost:8080/",
          "height": 51
        },
        "outputId": "6b685ef0-d10e-4fd6-8c0d-09438386753a"
      },
      "source": [
        "confusion_matrix(Y_Pred,Y_Test_5)"
      ],
      "execution_count": 40,
      "outputs": [
        {
          "output_type": "execute_result",
          "data": {
            "text/plain": [
              "array([[8111,  105],\n",
              "       [ 354,  670]])"
            ]
          },
          "metadata": {
            "tags": []
          },
          "execution_count": 40
        }
      ]
    },
    {
      "cell_type": "markdown",
      "metadata": {
        "id": "QCuv21tBK4lB",
        "colab_type": "text"
      },
      "source": [
        "In the Above matric 8111 is the True Negative and 105 is the false positive\n",
        "354  is false negative and 670 is true positive"
      ]
    },
    {
      "cell_type": "markdown",
      "metadata": {
        "id": "9pYeADMQMawL",
        "colab_type": "text"
      },
      "source": [
        "Precision = TP/TP+ FP\n",
        "Recall = TP/TP+FN"
      ]
    },
    {
      "cell_type": "code",
      "metadata": {
        "id": "aAZ4WnrsK0F4",
        "colab_type": "code",
        "colab": {}
      },
      "source": [
        "from sklearn.metrics import precision_recall_curve,precision_score,recall_score,roc_auc_score,roc_curve"
      ],
      "execution_count": 0,
      "outputs": []
    },
    {
      "cell_type": "code",
      "metadata": {
        "id": "doLhTgqsM0S7",
        "colab_type": "code",
        "colab": {
          "base_uri": "https://localhost:8080/",
          "height": 34
        },
        "outputId": "28e45b2e-4ba7-4c56-b8fa-49c218e1963d"
      },
      "source": [
        "precision_score(Y_Pred,Y_Test_5)"
      ],
      "execution_count": 42,
      "outputs": [
        {
          "output_type": "execute_result",
          "data": {
            "text/plain": [
              "0.864516129032258"
            ]
          },
          "metadata": {
            "tags": []
          },
          "execution_count": 42
        }
      ]
    },
    {
      "cell_type": "code",
      "metadata": {
        "id": "wgTZzyAINYJb",
        "colab_type": "code",
        "colab": {
          "base_uri": "https://localhost:8080/",
          "height": 34
        },
        "outputId": "f6332f25-bb3f-477b-bda2-da2e9bf5dac4"
      },
      "source": [
        "recall_score(Y_Pred,Y_Test_5)"
      ],
      "execution_count": 43,
      "outputs": [
        {
          "output_type": "execute_result",
          "data": {
            "text/plain": [
              "0.654296875"
            ]
          },
          "metadata": {
            "tags": []
          },
          "execution_count": 43
        }
      ]
    },
    {
      "cell_type": "code",
      "metadata": {
        "id": "GkoT8udvNb6w",
        "colab_type": "code",
        "colab": {}
      },
      "source": [
        "from sklearn.metrics import f1_score"
      ],
      "execution_count": 0,
      "outputs": []
    },
    {
      "cell_type": "code",
      "metadata": {
        "id": "RRWCYpKQNgpM",
        "colab_type": "code",
        "colab": {
          "base_uri": "https://localhost:8080/",
          "height": 34
        },
        "outputId": "88337b62-fa0e-4961-83e3-3aa059bbb23e"
      },
      "source": [
        "f1_score(Y_Pred,Y_Test_5)"
      ],
      "execution_count": 45,
      "outputs": [
        {
          "output_type": "execute_result",
          "data": {
            "text/plain": [
              "0.7448582545858811"
            ]
          },
          "metadata": {
            "tags": []
          },
          "execution_count": 45
        }
      ]
    },
    {
      "cell_type": "markdown",
      "metadata": {
        "id": "Z_Sin0YUNmi1",
        "colab_type": "text"
      },
      "source": [
        "F1Score is the Harmonic mean of Precision and Recall and acts a powerful indication of the wellness of the model"
      ]
    },
    {
      "cell_type": "markdown",
      "metadata": {
        "id": "Y9qCjoDbOPoJ",
        "colab_type": "text"
      },
      "source": [
        "increasing\tprecision\treduces\trecall,\tand\tvice\tversa.\tThis\tis called\tthe\tprecision/recall\ttradeoff"
      ]
    },
    {
      "cell_type": "markdown",
      "metadata": {
        "id": "2hgOUkm_OdMJ",
        "colab_type": "text"
      },
      "source": [
        "\tSGDClassifier\tmakes\tits\tclassification\tdecisions.\tFor each\tinstance,\tit\tcomputes\ta\tscore\tbased\ton\ta\tdecision\tfunction,\tand\tif\tthat\tscore\tis\tgreater\tthan\ta threshold,\tit\tassigns\tthe\tinstance\tto\tthe\tpositive\tclass,\tor\telse\tit\tassigns\tit\tto\tthe\tnegative\tclass."
      ]
    },
    {
      "cell_type": "code",
      "metadata": {
        "id": "Xhq9740WNkbh",
        "colab_type": "code",
        "colab": {
          "base_uri": "https://localhost:8080/",
          "height": 68
        },
        "outputId": "bcaa9035-6d46-4fd5-d0e4-80db5c462a5f"
      },
      "source": [
        "precision_recall_curve(Y_Pred,Y_Test_5)"
      ],
      "execution_count": 46,
      "outputs": [
        {
          "output_type": "execute_result",
          "data": {
            "text/plain": [
              "(array([0.11082251, 0.86451613, 1.        ]),\n",
              " array([1.        , 0.65429688, 0.        ]),\n",
              " array([False,  True]))"
            ]
          },
          "metadata": {
            "tags": []
          },
          "execution_count": 46
        }
      ]
    },
    {
      "cell_type": "code",
      "metadata": {
        "id": "Q0s8xHHrPDkc",
        "colab_type": "code",
        "colab": {}
      },
      "source": [
        "precisions,\trecalls,\tthresholds=precision_recall_curve(Y_Pred,Y_Test_5)"
      ],
      "execution_count": 0,
      "outputs": []
    },
    {
      "cell_type": "code",
      "metadata": {
        "id": "KcxC3cBmPLyc",
        "colab_type": "code",
        "colab": {
          "base_uri": "https://localhost:8080/",
          "height": 34
        },
        "outputId": "38f8a4e5-9612-494b-a0d5-d605204649e2"
      },
      "source": [
        "precisions"
      ],
      "execution_count": 48,
      "outputs": [
        {
          "output_type": "execute_result",
          "data": {
            "text/plain": [
              "array([0.11082251, 0.86451613, 1.        ])"
            ]
          },
          "metadata": {
            "tags": []
          },
          "execution_count": 48
        }
      ]
    },
    {
      "cell_type": "code",
      "metadata": {
        "id": "Rm_O44B8PNKX",
        "colab_type": "code",
        "colab": {}
      },
      "source": [
        "def\tplot_precision_recall_vs_threshold(precisions,\trecalls,\tthresholds):\n",
        "    plt.plot(thresholds,\tprecisions[:-1],\t\"b--\",\tlabel=\"Precision\")\t\t\t\t\n",
        "    plt.plot(thresholds,\trecalls[:-1],\t\"g-\",\tlabel=\"Recall\")\t\t\t\t\n",
        "    plt.xlabel(\"Threshold\")\t\t\t\t\n",
        "    plt.legend(loc=\"upper\tleft\")\t\t\t\t\n",
        "    plt.ylim([0,\t1])"
      ],
      "execution_count": 0,
      "outputs": []
    },
    {
      "cell_type": "code",
      "metadata": {
        "id": "cwjo3C-gPcjb",
        "colab_type": "code",
        "colab": {
          "base_uri": "https://localhost:8080/",
          "height": 541
        },
        "outputId": "a6a60560-73d3-48e7-8929-13c79c4f3c30"
      },
      "source": [
        "plot_precision_recall_vs_threshold(precisions,\trecalls,\tthresholds) \n",
        "plt.show()"
      ],
      "execution_count": 53,
      "outputs": [
        {
          "output_type": "stream",
          "text": [
            "/usr/local/lib/python3.6/dist-packages/matplotlib/legend.py:497: UserWarning: Unrecognized location \"upper\tleft\". Falling back on \"best\"; valid locations are\n",
            "\tbest\n",
            "\tupper right\n",
            "\tupper left\n",
            "\tlower left\n",
            "\tlower right\n",
            "\tright\n",
            "\tcenter left\n",
            "\tcenter right\n",
            "\tlower center\n",
            "\tupper center\n",
            "\tcenter\n",
            "\n",
            "  % (loc, '\\n\\t'.join(self.codes)))\n"
          ],
          "name": "stderr"
        },
        {
          "output_type": "display_data",
          "data": {
            "image/png": "[encoded data removed]",
            "text/plain": [
              "<Figure size 432x288 with 1 Axes>"
            ]
          },
          "metadata": {
            "tags": []
          }
        }
      ]
    },
    {
      "cell_type": "code",
      "metadata": {
        "id": "KpRidEqyQA7x",
        "colab_type": "code",
        "colab": {}
      },
      "source": [
        "roc_curve_sgd = roc_auc_score(Y_Pred,Y_Test_5)"
      ],
      "execution_count": 0,
      "outputs": []
    },
    {
      "cell_type": "code",
      "metadata": {
        "id": "RYZGRW0rRT7v",
        "colab_type": "code",
        "colab": {
          "base_uri": "https://localhost:8080/",
          "height": 68
        },
        "outputId": "91748871-28b6-45b4-fd42-52e02acc4ba1"
      },
      "source": [
        "roc_curve(Y_Pred,Y_Test_5)"
      ],
      "execution_count": 56,
      "outputs": [
        {
          "output_type": "execute_result",
          "data": {
            "text/plain": [
              "(array([0.        , 0.01277994, 1.        ]),\n",
              " array([0.        , 0.65429688, 1.        ]),\n",
              " array([2, 1, 0]))"
            ]
          },
          "metadata": {
            "tags": []
          },
          "execution_count": 56
        }
      ]
    },
    {
      "cell_type": "code",
      "metadata": {
        "id": "LD9a7HJkRdK3",
        "colab_type": "code",
        "colab": {}
      },
      "source": [
        "fpr,tpr,thresholds = roc_curve(Y_Pred,Y_Test_5)"
      ],
      "execution_count": 0,
      "outputs": []
    },
    {
      "cell_type": "code",
      "metadata": {
        "id": "P6TvBFPtRiao",
        "colab_type": "code",
        "colab": {
          "base_uri": "https://localhost:8080/",
          "height": 286
        },
        "outputId": "e9138206-8faa-43f6-888d-c12d3595093b"
      },
      "source": [
        "plt.plot(fpr,\ttpr,\tlinewidth=2)\t"
      ],
      "execution_count": 58,
      "outputs": [
        {
          "output_type": "execute_result",
          "data": {
            "text/plain": [
              "[<matplotlib.lines.Line2D at 0x7fd437490630>]"
            ]
          },
          "metadata": {
            "tags": []
          },
          "execution_count": 58
        },
        {
          "output_type": "display_data",
          "data": {
            "image/png": "[encoded data removed]",
            "text/plain": [
              "<Figure size 432x288 with 1 Axes>"
            ]
          },
          "metadata": {
            "tags": []
          }
        }
      ]
    },
    {
      "cell_type": "code",
      "metadata": {
        "id": "pYRt9qoQRtaQ",
        "colab_type": "code",
        "colab": {
          "base_uri": "https://localhost:8080/",
          "height": 34
        },
        "outputId": "42c690c4-862e-4f97-e4ed-3be14f4602e3"
      },
      "source": [
        "fpr"
      ],
      "execution_count": 59,
      "outputs": [
        {
          "output_type": "execute_result",
          "data": {
            "text/plain": [
              "array([0.        , 0.01277994, 1.        ])"
            ]
          },
          "metadata": {
            "tags": []
          },
          "execution_count": 59
        }
      ]
    },
    {
      "cell_type": "code",
      "metadata": {
        "id": "VJKl_AO7Rv_E",
        "colab_type": "code",
        "colab": {
          "base_uri": "https://localhost:8080/",
          "height": 34
        },
        "outputId": "43c6d512-23fc-41f2-c157-0df27b6017e2"
      },
      "source": [
        "tpr"
      ],
      "execution_count": 60,
      "outputs": [
        {
          "output_type": "execute_result",
          "data": {
            "text/plain": [
              "array([0.        , 0.65429688, 1.        ])"
            ]
          },
          "metadata": {
            "tags": []
          },
          "execution_count": 60
        }
      ]
    },
    {
      "cell_type": "code",
      "metadata": {
        "id": "Rvzc4wINRwhp",
        "colab_type": "code",
        "colab": {}
      },
      "source": [
        "from sklearn.ensemble import RandomForestClassifier"
      ],
      "execution_count": 0,
      "outputs": []
    },
    {
      "cell_type": "code",
      "metadata": {
        "id": "K6Szw77rR59e",
        "colab_type": "code",
        "colab": {}
      },
      "source": [
        "RFClassifier = RandomForestClassifier(random_state=42)"
      ],
      "execution_count": 0,
      "outputs": []
    },
    {
      "cell_type": "code",
      "metadata": {
        "id": "tuaFJ_JvSJxu",
        "colab_type": "code",
        "colab": {
          "base_uri": "https://localhost:8080/",
          "height": 139
        },
        "outputId": "18af8708-1bfe-45c9-e787-fd07b1f336a9"
      },
      "source": [
        "proba_forest = cross_val_predict(RFClassifier,X_Train,Y_Train_5,cv=3,method='predict_proba')"
      ],
      "execution_count": 65,
      "outputs": [
        {
          "output_type": "stream",
          "text": [
            "/usr/local/lib/python3.6/dist-packages/sklearn/ensemble/forest.py:245: FutureWarning: The default value of n_estimators will change from 10 in version 0.20 to 100 in 0.22.\n",
            "  \"10 in version 0.20 to 100 in 0.22.\", FutureWarning)\n",
            "/usr/local/lib/python3.6/dist-packages/sklearn/ensemble/forest.py:245: FutureWarning: The default value of n_estimators will change from 10 in version 0.20 to 100 in 0.22.\n",
            "  \"10 in version 0.20 to 100 in 0.22.\", FutureWarning)\n",
            "/usr/local/lib/python3.6/dist-packages/sklearn/ensemble/forest.py:245: FutureWarning: The default value of n_estimators will change from 10 in version 0.20 to 100 in 0.22.\n",
            "  \"10 in version 0.20 to 100 in 0.22.\", FutureWarning)\n"
          ],
          "name": "stderr"
        }
      ]
    },
    {
      "cell_type": "code",
      "metadata": {
        "id": "7jf8mj-rSwUA",
        "colab_type": "code",
        "colab": {
          "base_uri": "https://localhost:8080/",
          "height": 190
        },
        "outputId": "a4e37bd2-7fd3-41c8-c884-c9ca73e98ed3"
      },
      "source": [
        "RFClassifier.fit(X_Train,Y_Train_5)"
      ],
      "execution_count": 66,
      "outputs": [
        {
          "output_type": "stream",
          "text": [
            "/usr/local/lib/python3.6/dist-packages/sklearn/ensemble/forest.py:245: FutureWarning: The default value of n_estimators will change from 10 in version 0.20 to 100 in 0.22.\n",
            "  \"10 in version 0.20 to 100 in 0.22.\", FutureWarning)\n"
          ],
          "name": "stderr"
        },
        {
          "output_type": "execute_result",
          "data": {
            "text/plain": [
              "RandomForestClassifier(bootstrap=True, class_weight=None, criterion='gini',\n",
              "                       max_depth=None, max_features='auto', max_leaf_nodes=None,\n",
              "                       min_impurity_decrease=0.0, min_impurity_split=None,\n",
              "                       min_samples_leaf=1, min_samples_split=2,\n",
              "                       min_weight_fraction_leaf=0.0, n_estimators=10,\n",
              "                       n_jobs=None, oob_score=False, random_state=42, verbose=0,\n",
              "                       warm_start=False)"
            ]
          },
          "metadata": {
            "tags": []
          },
          "execution_count": 66
        }
      ]
    },
    {
      "cell_type": "code",
      "metadata": {
        "id": "Qcd2ABk3S_Kf",
        "colab_type": "code",
        "colab": {}
      },
      "source": [
        "Y_Pred_Forest = RFClassifier.predict(X_Test)"
      ],
      "execution_count": 0,
      "outputs": []
    },
    {
      "cell_type": "code",
      "metadata": {
        "id": "bp2AwxSCSUvn",
        "colab_type": "code",
        "colab": {}
      },
      "source": [
        "fpr_forest,tpr_forest,thresholds_forest = roc_curve(Y_Pred_Forest,Y_Test_5)"
      ],
      "execution_count": 0,
      "outputs": []
    },
    {
      "cell_type": "code",
      "metadata": {
        "id": "iBGzw41OTHhx",
        "colab_type": "code",
        "colab": {
          "base_uri": "https://localhost:8080/",
          "height": 269
        },
        "outputId": "f9e587ac-acab-4add-f3b6-31a215f9efb2"
      },
      "source": [
        "plt.plot(fpr,tpr,label='SGD Classifier')\n",
        "plt.plot(fpr_forest,tpr_forest,label='Random Forest Classifier')\n",
        "plt.legend()\n",
        "plt.show()"
      ],
      "execution_count": 70,
      "outputs": [
        {
          "output_type": "display_data",
          "data": {
            "image/png": "[encoded data removed]",
            "text/plain": [
              "<Figure size 432x288 with 1 Axes>"
            ]
          },
          "metadata": {
            "tags": []
          }
        }
      ]
    },
    {
      "cell_type": "markdown",
      "metadata": {
        "id": "ahdA-v5pTlMc",
        "colab_type": "text"
      },
      "source": [
        "Comparing the Models With ROC Curves to get the wellness of the model"
      ]
    },
    {
      "cell_type": "code",
      "metadata": {
        "id": "C6o8QLMjTdaq",
        "colab_type": "code",
        "colab": {
          "base_uri": "https://localhost:8080/",
          "height": 34
        },
        "outputId": "699101e7-e61e-4761-c868-e81c5c409ec4"
      },
      "source": [
        "roc_auc_score(Y_Pred,Y_Test_5)"
      ],
      "execution_count": 71,
      "outputs": [
        {
          "output_type": "execute_result",
          "data": {
            "text/plain": [
              "0.820758466711295"
            ]
          },
          "metadata": {
            "tags": []
          },
          "execution_count": 71
        }
      ]
    },
    {
      "cell_type": "code",
      "metadata": {
        "id": "5NNHHRgrTxn6",
        "colab_type": "code",
        "colab": {
          "base_uri": "https://localhost:8080/",
          "height": 34
        },
        "outputId": "befb2a46-ca5c-4684-e69c-8b8b264712ba"
      },
      "source": [
        "roc_auc_score(Y_Pred_Forest,Y_Test_5)"
      ],
      "execution_count": 72,
      "outputs": [
        {
          "output_type": "execute_result",
          "data": {
            "text/plain": [
              "0.9800873109218153"
            ]
          },
          "metadata": {
            "tags": []
          },
          "execution_count": 72
        }
      ]
    },
    {
      "cell_type": "markdown",
      "metadata": {
        "id": "YSARz8isT3Ue",
        "colab_type": "text"
      },
      "source": [
        "The more the ROC_AUC the good the model issssssssss.................."
      ]
    },
    {
      "cell_type": "code",
      "metadata": {
        "id": "WSq9q71nT0s9",
        "colab_type": "code",
        "colab": {}
      },
      "source": [
        ""
      ],
      "execution_count": 0,
      "outputs": []
    }
  ]
}