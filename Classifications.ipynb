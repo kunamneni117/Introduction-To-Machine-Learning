{
  "nbformat": 4,
  "nbformat_minor": 0,
  "metadata": {
    "colab": {
      "name": "Classifications.ipynb",
      "version": "0.3.2",
      "provenance": [],
      "collapsed_sections": [],
      "include_colab_link": true
    },
    "kernelspec": {
      "name": "python3",
      "display_name": "Python 3"
    },
    "accelerator": "GPU"
  },
  "cells": [
    {
      "cell_type": "markdown",
      "metadata": {
        "id": "view-in-github",
        "colab_type": "text"
      },
      "source": [
        "<a href=\"https://colab.research.google.com/github/kunamneni117/Introduction-To-Machine-Learning/blob/Developement/Classifications.ipynb\" target=\"_parent\"><img src=\"https://colab.research.google.com/assets/colab-badge.svg\" alt=\"Open In Colab\"/></a>"
      ]
    },
    {
      "cell_type": "code",
      "metadata": {
        "id": "NZWkWWMbkRDU",
        "colab_type": "code",
        "colab": {}
      },
      "source": [
        "import pandas as pd\n",
        "import numpy as np\n",
        "import matplotlib.pyplot as plt\n",
        "from sklearn.preprocessing import Imputer,StandardScaler\n",
        "from sklearn.model_selection import train_test_split\n",
        "from sklearn.base import BaseEstimator,TransformerMixin"
      ],
      "execution_count": 0,
      "outputs": []
    },
    {
      "cell_type": "code",
      "metadata": {
        "id": "xR5Jide5k6pG",
        "colab_type": "code",
        "outputId": "fd793940-4842-457b-db59-c1a1d50223a2",
        "colab": {
          "base_uri": "https://localhost:8080/",
          "height": 190
        }
      },
      "source": [
        "!pip install sklearn_features"
      ],
      "execution_count": 5,
      "outputs": [
        {
          "output_type": "stream",
          "text": [
            "Requirement already satisfied: sklearn_features in /usr/local/lib/python3.6/dist-packages (0.0.2)\n",
            "Requirement already satisfied: scipy in /usr/local/lib/python3.6/dist-packages (from sklearn_features) (1.3.1)\n",
            "Requirement already satisfied: pandas in /usr/local/lib/python3.6/dist-packages (from sklearn_features) (0.24.2)\n",
            "Requirement already satisfied: scikit-learn in /usr/local/lib/python3.6/dist-packages (from sklearn_features) (0.21.3)\n",
            "Requirement already satisfied: numpy>=1.13.3 in /usr/local/lib/python3.6/dist-packages (from scipy->sklearn_features) (1.16.4)\n",
            "Requirement already satisfied: pytz>=2011k in /usr/local/lib/python3.6/dist-packages (from pandas->sklearn_features) (2018.9)\n",
            "Requirement already satisfied: python-dateutil>=2.5.0 in /usr/local/lib/python3.6/dist-packages (from pandas->sklearn_features) (2.5.3)\n",
            "Requirement already satisfied: joblib>=0.11 in /usr/local/lib/python3.6/dist-packages (from scikit-learn->sklearn_features) (0.13.2)\n",
            "Requirement already satisfied: six>=1.5 in /usr/local/lib/python3.6/dist-packages (from python-dateutil>=2.5.0->pandas->sklearn_features) (1.12.0)\n"
          ],
          "name": "stdout"
        }
      ]
    },
    {
      "cell_type": "code",
      "metadata": {
        "id": "DLx56EGKk-Hp",
        "colab_type": "code",
        "colab": {}
      },
      "source": [
        "from sklearn_features.transformers import DataFrameSelector\n",
        "from sklearn.pipeline import Pipeline,FeatureUnion"
      ],
      "execution_count": 0,
      "outputs": []
    },
    {
      "cell_type": "code",
      "metadata": {
        "id": "mC0rvX5PlKst",
        "colab_type": "code",
        "colab": {}
      },
      "source": [
        "MNIST_Data = pd.read_csv('/content/train.csv')"
      ],
      "execution_count": 0,
      "outputs": []
    },
    {
      "cell_type": "code",
      "metadata": {
        "id": "k9bQ8PqG3CCD",
        "colab_type": "code",
        "colab": {
          "base_uri": "https://localhost:8080/",
          "height": 34
        },
        "outputId": "ebadabe7-bbe5-468b-d385-f7544b18abca"
      },
      "source": [
        "print(MNIST_Data.shape)"
      ],
      "execution_count": 8,
      "outputs": [
        {
          "output_type": "stream",
          "text": [
            "(42000, 785)\n"
          ],
          "name": "stdout"
        }
      ]
    },
    {
      "cell_type": "code",
      "metadata": {
        "id": "u4mYM2Z83GwU",
        "colab_type": "code",
        "colab": {}
      },
      "source": [
        "MNIST_Data_Features = MNIST_Data.values[:,1:]\n",
        "MNIST_Data_Labels = MNIST_Data.values[:,0]"
      ],
      "execution_count": 0,
      "outputs": []
    },
    {
      "cell_type": "code",
      "metadata": {
        "id": "kwDNZeFN3Ubd",
        "colab_type": "code",
        "colab": {
          "base_uri": "https://localhost:8080/",
          "height": 34
        },
        "outputId": "286cbc06-4a64-42da-8bcd-d4f4a1b79f83"
      },
      "source": [
        "print(MNIST_Data_Features.shape,MNIST_Data_Labels.shape)"
      ],
      "execution_count": 25,
      "outputs": [
        {
          "output_type": "stream",
          "text": [
            "(42000, 784) (42000,)\n"
          ],
          "name": "stdout"
        }
      ]
    },
    {
      "cell_type": "code",
      "metadata": {
        "id": "egI-se7Y4Zps",
        "colab_type": "code",
        "colab": {}
      },
      "source": [
        "import matplotlib"
      ],
      "execution_count": 0,
      "outputs": []
    },
    {
      "cell_type": "code",
      "metadata": {
        "id": "ELQf301H3ZKL",
        "colab_type": "code",
        "colab": {}
      },
      "source": [
        "def Random_Image(Data):\n",
        "  \"\"\"Picks a Random Row and reshapes the row in such a way and it prints a image\"\"\"\n",
        "  Random_Row = np.random.randint(len(Data))\n",
        "  plt.imshow(Data[Random_Row].reshape(28,28),cmap=matplotlib.cm.binary)"
      ],
      "execution_count": 0,
      "outputs": []
    },
    {
      "cell_type": "code",
      "metadata": {
        "id": "VUeu-cQZ4fl4",
        "colab_type": "code",
        "colab": {
          "base_uri": "https://localhost:8080/",
          "height": 269
        },
        "outputId": "2f67b515-05e0-49fa-891e-1d5f647c9a22"
      },
      "source": [
        "Random_Image(MNIST_Data_Features)"
      ],
      "execution_count": 27,
      "outputs": [
        {
          "output_type": "display_data",
          "data": {
            "image/png": "[encoded data removed]",
            "text/plain": [
              "<Figure size 432x288 with 1 Axes>"
            ]
          },
          "metadata": {
            "tags": []
          }
        }
      ]
    },
    {
      "cell_type": "code",
      "metadata": {
        "id": "0YFElqHu4jYu",
        "colab_type": "code",
        "colab": {}
      },
      "source": [
        "from sklearn.model_selection import train_test_split"
      ],
      "execution_count": 0,
      "outputs": []
    },
    {
      "cell_type": "code",
      "metadata": {
        "id": "K6z5iUIV4qWG",
        "colab_type": "code",
        "colab": {}
      },
      "source": [
        "X_Train,X_Test,Y_Train,Y_Test = train_test_split(MNIST_Data_Features,MNIST_Data_Labels,random_state=42,test_size=0.22)"
      ],
      "execution_count": 0,
      "outputs": []
    },
    {
      "cell_type": "code",
      "metadata": {
        "id": "nre59IwH45ym",
        "colab_type": "code",
        "colab": {
          "base_uri": "https://localhost:8080/",
          "height": 34
        },
        "outputId": "9b5f2f59-bb0b-41bc-907f-50f95ab9c83b"
      },
      "source": [
        "print(X_Train.shape,X_Test.shape)"
      ],
      "execution_count": 30,
      "outputs": [
        {
          "output_type": "stream",
          "text": [
            "(32760, 784) (9240, 784)\n"
          ],
          "name": "stdout"
        }
      ]
    },
    {
      "cell_type": "markdown",
      "metadata": {
        "id": "NawJHtVH5bbw",
        "colab_type": "text"
      },
      "source": [
        "Creating a Binary Classifier Model and training to predict 5 integer and non 5 integer"
      ]
    },
    {
      "cell_type": "code",
      "metadata": {
        "id": "SiEeZF1f5t-p",
        "colab_type": "code",
        "colab": {}
      },
      "source": [
        "from sklearn.linear_model import SGDClassifier"
      ],
      "execution_count": 0,
      "outputs": []
    },
    {
      "cell_type": "code",
      "metadata": {
        "id": "Awy5xZSr54RO",
        "colab_type": "code",
        "colab": {}
      },
      "source": [
        "Y_Train_5 = (Y_Train==5)\n",
        "Y_Test_5 =(Y_Test==5)"
      ],
      "execution_count": 0,
      "outputs": []
    },
    {
      "cell_type": "code",
      "metadata": {
        "id": "37utZzJb6DAD",
        "colab_type": "code",
        "colab": {}
      },
      "source": [
        "SGD_classifier_Object = SGDClassifier(random_state=42)"
      ],
      "execution_count": 0,
      "outputs": []
    },
    {
      "cell_type": "code",
      "metadata": {
        "id": "EO-L84tcGv02",
        "colab_type": "code",
        "colab": {}
      },
      "source": [
        ""
      ],
      "execution_count": 0,
      "outputs": []
    },
    {
      "cell_type": "code",
      "metadata": {
        "id": "ZeI48Zbx6LIE",
        "colab_type": "code",
        "colab": {
          "base_uri": "https://localhost:8080/",
          "height": 119
        },
        "outputId": "7b4c6da4-de2a-4bd9-d7d5-efe05653b1d2"
      },
      "source": [
        "SGD_classifier_Object.fit(X_Train,Y_Train_5)"
      ],
      "execution_count": 33,
      "outputs": [
        {
          "output_type": "execute_result",
          "data": {
            "text/plain": [
              "SGDClassifier(alpha=0.0001, average=False, class_weight=None,\n",
              "              early_stopping=False, epsilon=0.1, eta0=0.0, fit_intercept=True,\n",
              "              l1_ratio=0.15, learning_rate='optimal', loss='hinge',\n",
              "              max_iter=1000, n_iter_no_change=5, n_jobs=None, penalty='l2',\n",
              "              power_t=0.5, random_state=42, shuffle=True, tol=0.001,\n",
              "              validation_fraction=0.1, verbose=0, warm_start=False)"
            ]
          },
          "metadata": {
            "tags": []
          },
          "execution_count": 33
        }
      ]
    },
    {
      "cell_type": "code",
      "metadata": {
        "id": "XP0bJSBCKl6O",
        "colab_type": "code",
        "colab": {}
      },
      "source": [
        "Y_Pred = SGD_classifier_Object.predict(X_Test)"
      ],
      "execution_count": 0,
      "outputs": []
    },
    {
      "cell_type": "markdown",
      "metadata": {
        "id": "1ER13k1IG5kQ",
        "colab_type": "text"
      },
      "source": [
        "Implementing StratifiedKflod Cross Validation Method"
      ]
    },
    {
      "cell_type": "code",
      "metadata": {
        "id": "PNu9H8HmGxuF",
        "colab_type": "code",
        "colab": {}
      },
      "source": [
        "from sklearn.model_selection import StratifiedKFold"
      ],
      "execution_count": 0,
      "outputs": []
    },
    {
      "cell_type": "code",
      "metadata": {
        "id": "x_KNFaeJHGQ_",
        "colab_type": "code",
        "colab": {}
      },
      "source": [
        "from sklearn.base import clone"
      ],
      "execution_count": 0,
      "outputs": []
    },
    {
      "cell_type": "code",
      "metadata": {
        "id": "F5eBvdLQHJf1",
        "colab_type": "code",
        "colab": {}
      },
      "source": [
        "skfolds = StratifiedKFold(n_splits=3,random_state=42)"
      ],
      "execution_count": 0,
      "outputs": []
    },
    {
      "cell_type": "code",
      "metadata": {
        "id": "pPNBXeeoHTUu",
        "colab_type": "code",
        "colab": {
          "base_uri": "https://localhost:8080/",
          "height": 68
        },
        "outputId": "31d9558d-c5af-4bdc-da78-66487cc9a637"
      },
      "source": [
        "for train_index,test_index in skfolds.split(X_Train,Y_Train_5):\n",
        "  X_Train_kflod = X_Train[train_index]\n",
        "  X_Test_kflod = X_Train[test_index]\n",
        "  Y_Train_kflod = Y_Train_5[train_index]\n",
        "  Y_Test_kflod = Y_Train_5[test_index]\n",
        "  SGD_Classifier_Clone = clone(SGD_classifier_Object)\n",
        "  SGD_Classifier_Clone.fit(X_Train_kflod,Y_Train_kflod)\n",
        "  Y_Pred_kflod = SGD_Classifier_Clone.predict(X_Test_kflod)\n",
        "  n_correct = sum(Y_Pred_kflod==Y_Test_kflod)\n",
        "  print(n_correct/len(Y_Test_kflod))"
      ],
      "execution_count": 37,
      "outputs": [
        {
          "output_type": "stream",
          "text": [
            "0.964197417818881\n",
            "0.9561355311355312\n",
            "0.9610770217052844\n"
          ],
          "name": "stdout"
        }
      ]
    },
    {
      "cell_type": "markdown",
      "metadata": {
        "id": "q0w-n9qiIxSC",
        "colab_type": "text"
      },
      "source": [
        "From this we thought of the model is very accurate BUT...."
      ]
    },
    {
      "cell_type": "markdown",
      "metadata": {
        "id": "Yr4QkL9TJANq",
        "colab_type": "text"
      },
      "source": [
        "For Classification we use another set of tools for measuring the goodness of the  model"
      ]
    },
    {
      "cell_type": "code",
      "metadata": {
        "id": "C652g3WyIpDn",
        "colab_type": "code",
        "colab": {}
      },
      "source": [
        "from sklearn.metrics import confusion_matrix\n",
        "from sklearn.model_selection import cross_val_predict"
      ],
      "execution_count": 0,
      "outputs": []
    },
    {
      "cell_type": "code",
      "metadata": {
        "id": "-l4UYzKuJZDn",
        "colab_type": "code",
        "colab": {
          "base_uri": "https://localhost:8080/",
          "height": 51
        },
        "outputId": "6b685ef0-d10e-4fd6-8c0d-09438386753a"
      },
      "source": [
        "confusion_matrix(Y_Pred,Y_Test_5)"
      ],
      "execution_count": 40,
      "outputs": [
        {
          "output_type": "execute_result",
          "data": {
            "text/plain": [
              "array([[8111,  105],\n",
              "       [ 354,  670]])"
            ]
          },
          "metadata": {
            "tags": []
          },
          "execution_count": 40
        }
      ]
    },
    {
      "cell_type": "markdown",
      "metadata": {
        "id": "QCuv21tBK4lB",
        "colab_type": "text"
      },
      "source": [
        "In the Above matric 8111 is the True Negative and 105 is the false positive\n",
        "354  is false negative and 670 is true positive"
      ]
    },
    {
      "cell_type": "markdown",
      "metadata": {
        "id": "9pYeADMQMawL",
        "colab_type": "text"
      },
      "source": [
        "Precision = TP/TP+ FP\n",
        "Recall = TP/TP+FN"
      ]
    },
    {
      "cell_type": "code",
      "metadata": {
        "id": "aAZ4WnrsK0F4",
        "colab_type": "code",
        "colab": {}
      },
      "source": [
        "from sklearn.metrics import precision_recall_curve,precision_score,recall_score,roc_auc_score,roc_curve"
      ],
      "execution_count": 0,
      "outputs": []
    },
    {
      "cell_type": "code",
      "metadata": {
        "id": "doLhTgqsM0S7",
        "colab_type": "code",
        "colab": {
          "base_uri": "https://localhost:8080/",
          "height": 34
        },
        "outputId": "28e45b2e-4ba7-4c56-b8fa-49c218e1963d"
      },
      "source": [
        "precision_score(Y_Pred,Y_Test_5)"
      ],
      "execution_count": 42,
      "outputs": [
        {
          "output_type": "execute_result",
          "data": {
            "text/plain": [
              "0.864516129032258"
            ]
          },
          "metadata": {
            "tags": []
          },
          "execution_count": 42
        }
      ]
    },
    {
      "cell_type": "code",
      "metadata": {
        "id": "wgTZzyAINYJb",
        "colab_type": "code",
        "colab": {
          "base_uri": "https://localhost:8080/",
          "height": 34
        },
        "outputId": "f6332f25-bb3f-477b-bda2-da2e9bf5dac4"
      },
      "source": [
        "recall_score(Y_Pred,Y_Test_5)"
      ],
      "execution_count": 43,
      "outputs": [
        {
          "output_type": "execute_result",
          "data": {
            "text/plain": [
              "0.654296875"
            ]
          },
          "metadata": {
            "tags": []
          },
          "execution_count": 43
        }
      ]
    },
    {
      "cell_type": "code",
      "metadata": {
        "id": "GkoT8udvNb6w",
        "colab_type": "code",
        "colab": {}
      },
      "source": [
        "from sklearn.metrics import f1_score"
      ],
      "execution_count": 0,
      "outputs": []
    },
    {
      "cell_type": "code",
      "metadata": {
        "id": "RRWCYpKQNgpM",
        "colab_type": "code",
        "colab": {
          "base_uri": "https://localhost:8080/",
          "height": 34
        },
        "outputId": "88337b62-fa0e-4961-83e3-3aa059bbb23e"
      },
      "source": [
        "f1_score(Y_Pred,Y_Test_5)"
      ],
      "execution_count": 45,
      "outputs": [
        {
          "output_type": "execute_result",
          "data": {
            "text/plain": [
              "0.7448582545858811"
            ]
          },
          "metadata": {
            "tags": []
          },
          "execution_count": 45
        }
      ]
    },
    {
      "cell_type": "markdown",
      "metadata": {
        "id": "Z_Sin0YUNmi1",
        "colab_type": "text"
      },
      "source": [
        "F1Score is the Harmonic mean of Precision and Recall and acts a powerful indication of the wellness of the model"
      ]
    },
    {
      "cell_type": "code",
      "metadata": {
        "id": "Xhq9740WNkbh",
        "colab_type": "code",
        "colab": {}
      },
      "source": [
        ""
      ],
      "execution_count": 0,
      "outputs": []
    }
  ]
}